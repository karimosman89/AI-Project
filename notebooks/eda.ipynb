# Exploratory Data Analysis (EDA)

## Objectives
1. Understand the distribution of classes in the dataset.
2. Visualize sample images from each class.
3. Analyze any correlations in the dataset.

## Steps
- Load the dataset
- Display class distribution
- Show sample images
- Conduct exploratory visualizations

