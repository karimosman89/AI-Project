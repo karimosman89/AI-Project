# In the Jupyter Notebook

import pandas as pd
import seaborn as sns
import matplotlib.pyplot as plt

# Load dataset
df = pd.read_csv('../data/raw/data.csv')

# Basic stats and visualizations
print(df.describe())
sns.pairplot(df)
plt.show()
